{
 "cells": [
  {
   "cell_type": "markdown",
   "metadata": {
    "id": "mQFbageR7eSe"
   },
   "source": [
    "# Exploratory data analysis (EDA)"
   ]
  },
  {
   "cell_type": "markdown",
   "metadata": {},
   "source": [
    "Importing necessary modules and Reading Train and Test."
   ]
  },
  {
   "cell_type": "code",
   "execution_count": 2,
   "metadata": {
    "id": "p2oKsGVW7eSm"
   },
   "outputs": [],
   "source": [
    "import pandas as pd\n",
    "import seaborn as sns\n",
    "import matplotlib.pyplot as plt\n",
    "import numpy as np\n",
    "iris = pd.read_csv(\"Train.csv\")"
   ]
  },
  {
   "cell_type": "code",
   "execution_count": 3,
   "metadata": {},
   "outputs": [],
   "source": [
    "data = pd.read_csv(\"Test.csv\")"
   ]
  },
  {
   "cell_type": "markdown",
   "metadata": {},
   "source": [
    "Getting shape of Both Train and Test data."
   ]
  },
  {
   "cell_type": "code",
   "execution_count": 4,
   "metadata": {
    "colab": {
     "base_uri": "https://localhost:8080/"
    },
    "id": "qs8rT4Up7eSz",
    "outputId": "340eda3a-68c3-4c8d-b891-010d6c08ce6d"
   },
   "outputs": [
    {
     "name": "stdout",
     "output_type": "stream",
     "text": [
      "(6034195, 4)\n"
     ]
    }
   ],
   "source": [
    "# (Q) how many data-points and features?\n",
    "print (iris.shape)"
   ]
  },
  {
   "cell_type": "code",
   "execution_count": 5,
   "metadata": {},
   "outputs": [
    {
     "name": "stdout",
     "output_type": "stream",
     "text": [
      "(2013337, 3)\n"
     ]
    }
   ],
   "source": [
    "print(data.shape)"
   ]
  },
  {
   "cell_type": "markdown",
   "metadata": {},
   "source": [
    "Columns in Train data "
   ]
  },
  {
   "cell_type": "code",
   "execution_count": 6,
   "metadata": {
    "colab": {
     "base_uri": "https://localhost:8080/"
    },
    "id": "3RT2Gdlq7eTC",
    "outputId": "a54db9de-b5a7-46e1-a0cd-3b3cb8d0925f",
    "scrolled": true
   },
   "outputs": [
    {
     "name": "stdout",
     "output_type": "stream",
     "text": [
      "Index(['Id', 'Title', 'Body', 'Tags'], dtype='object')\n"
     ]
    }
   ],
   "source": [
    "#(Q) What are the column names in our dataset?\n",
    "print (iris.columns)"
   ]
  },
  {
   "cell_type": "markdown",
   "metadata": {},
   "source": [
    "Taking 50 % of data"
   ]
  },
  {
   "cell_type": "code",
   "execution_count": 8,
   "metadata": {},
   "outputs": [],
   "source": [
    "train = iris.head(int(len(iris)*(50/100)))"
   ]
  },
  {
   "cell_type": "code",
   "execution_count": 9,
   "metadata": {},
   "outputs": [],
   "source": [
    "test = data.head(int(len(data)*(50/100)))"
   ]
  },
  {
   "cell_type": "code",
   "execution_count": 10,
   "metadata": {},
   "outputs": [
    {
     "data": {
      "text/plain": [
       "(3017097, 4)"
      ]
     },
     "execution_count": 10,
     "metadata": {},
     "output_type": "execute_result"
    }
   ],
   "source": [
    "train.shape"
   ]
  },
  {
   "cell_type": "markdown",
   "metadata": {},
   "source": [
    "Droping Null values"
   ]
  },
  {
   "cell_type": "code",
   "execution_count": 11,
   "metadata": {},
   "outputs": [
    {
     "data": {
      "text/plain": [
       "Id       0\n",
       "Title    0\n",
       "Body     0\n",
       "Tags     5\n",
       "dtype: int64"
      ]
     },
     "execution_count": 11,
     "metadata": {},
     "output_type": "execute_result"
    }
   ],
   "source": [
    "train.isnull().sum()"
   ]
  },
  {
   "cell_type": "code",
   "execution_count": 12,
   "metadata": {},
   "outputs": [
    {
     "data": {
      "text/html": [
       "<div>\n",
       "<style scoped>\n",
       "    .dataframe tbody tr th:only-of-type {\n",
       "        vertical-align: middle;\n",
       "    }\n",
       "\n",
       "    .dataframe tbody tr th {\n",
       "        vertical-align: top;\n",
       "    }\n",
       "\n",
       "    .dataframe thead th {\n",
       "        text-align: right;\n",
       "    }\n",
       "</style>\n",
       "<table border=\"1\" class=\"dataframe\">\n",
       "  <thead>\n",
       "    <tr style=\"text-align: right;\">\n",
       "      <th></th>\n",
       "      <th>Id</th>\n",
       "      <th>Title</th>\n",
       "      <th>Body</th>\n",
       "      <th>Tags</th>\n",
       "    </tr>\n",
       "  </thead>\n",
       "  <tbody>\n",
       "    <tr>\n",
       "      <th>0</th>\n",
       "      <td>1</td>\n",
       "      <td>How to check if an uploaded file is an image w...</td>\n",
       "      <td>&lt;p&gt;I'd like to check if an uploaded file is an...</td>\n",
       "      <td>php image-processing file-upload upload mime-t...</td>\n",
       "    </tr>\n",
       "    <tr>\n",
       "      <th>1</th>\n",
       "      <td>2</td>\n",
       "      <td>How can I prevent firefox from closing when I ...</td>\n",
       "      <td>&lt;p&gt;In my favorite editor (vim), I regularly us...</td>\n",
       "      <td>firefox</td>\n",
       "    </tr>\n",
       "    <tr>\n",
       "      <th>2</th>\n",
       "      <td>3</td>\n",
       "      <td>R Error Invalid type (list) for variable</td>\n",
       "      <td>&lt;p&gt;I am import matlab file and construct a dat...</td>\n",
       "      <td>r matlab machine-learning</td>\n",
       "    </tr>\n",
       "    <tr>\n",
       "      <th>3</th>\n",
       "      <td>4</td>\n",
       "      <td>How do I replace special characters in a URL?</td>\n",
       "      <td>&lt;p&gt;This is probably very simple, but I simply ...</td>\n",
       "      <td>c# url encoding</td>\n",
       "    </tr>\n",
       "    <tr>\n",
       "      <th>4</th>\n",
       "      <td>5</td>\n",
       "      <td>How to modify whois contact details?</td>\n",
       "      <td>&lt;pre&gt;&lt;code&gt;function modify(.......)\\n{\\n  $mco...</td>\n",
       "      <td>php api file-get-contents</td>\n",
       "    </tr>\n",
       "    <tr>\n",
       "      <th>...</th>\n",
       "      <td>...</td>\n",
       "      <td>...</td>\n",
       "      <td>...</td>\n",
       "      <td>...</td>\n",
       "    </tr>\n",
       "    <tr>\n",
       "      <th>3017092</th>\n",
       "      <td>3017093</td>\n",
       "      <td>Passing a derived class to a web service metho...</td>\n",
       "      <td>&lt;p&gt;I have a bizarre problem that is doing my h...</td>\n",
       "      <td>c# web-services abstract-class</td>\n",
       "    </tr>\n",
       "    <tr>\n",
       "      <th>3017093</th>\n",
       "      <td>3017094</td>\n",
       "      <td>What's the real point and benefit of having an...</td>\n",
       "      <td>&lt;p&gt;When reading the apple docs about multithre...</td>\n",
       "      <td>iphone multithreading</td>\n",
       "    </tr>\n",
       "    <tr>\n",
       "      <th>3017094</th>\n",
       "      <td>3017095</td>\n",
       "      <td>Sitefinity 4.2 - Unable to load one or more of...</td>\n",
       "      <td>&lt;p&gt;I am trying to pull up a Sitefinity 4.2 pro...</td>\n",
       "      <td>sitefinity-4</td>\n",
       "    </tr>\n",
       "    <tr>\n",
       "      <th>3017095</th>\n",
       "      <td>3017096</td>\n",
       "      <td>Provide a progress bar with a custom text and ...</td>\n",
       "      <td>&lt;p&gt;I have a C++ framework and I would like to ...</td>\n",
       "      <td>cocoa progress-bar</td>\n",
       "    </tr>\n",
       "    <tr>\n",
       "      <th>3017096</th>\n",
       "      <td>3017097</td>\n",
       "      <td>Redirecting with simple php and post</td>\n",
       "      <td>&lt;p&gt;I looked through stackoverflow but I could ...</td>\n",
       "      <td>php html post header</td>\n",
       "    </tr>\n",
       "  </tbody>\n",
       "</table>\n",
       "<p>3017092 rows × 4 columns</p>\n",
       "</div>"
      ],
      "text/plain": [
       "              Id                                              Title  \\\n",
       "0              1  How to check if an uploaded file is an image w...   \n",
       "1              2  How can I prevent firefox from closing when I ...   \n",
       "2              3           R Error Invalid type (list) for variable   \n",
       "3              4      How do I replace special characters in a URL?   \n",
       "4              5               How to modify whois contact details?   \n",
       "...          ...                                                ...   \n",
       "3017092  3017093  Passing a derived class to a web service metho...   \n",
       "3017093  3017094  What's the real point and benefit of having an...   \n",
       "3017094  3017095  Sitefinity 4.2 - Unable to load one or more of...   \n",
       "3017095  3017096  Provide a progress bar with a custom text and ...   \n",
       "3017096  3017097               Redirecting with simple php and post   \n",
       "\n",
       "                                                      Body  \\\n",
       "0        <p>I'd like to check if an uploaded file is an...   \n",
       "1        <p>In my favorite editor (vim), I regularly us...   \n",
       "2        <p>I am import matlab file and construct a dat...   \n",
       "3        <p>This is probably very simple, but I simply ...   \n",
       "4        <pre><code>function modify(.......)\\n{\\n  $mco...   \n",
       "...                                                    ...   \n",
       "3017092  <p>I have a bizarre problem that is doing my h...   \n",
       "3017093  <p>When reading the apple docs about multithre...   \n",
       "3017094  <p>I am trying to pull up a Sitefinity 4.2 pro...   \n",
       "3017095  <p>I have a C++ framework and I would like to ...   \n",
       "3017096  <p>I looked through stackoverflow but I could ...   \n",
       "\n",
       "                                                      Tags  \n",
       "0        php image-processing file-upload upload mime-t...  \n",
       "1                                                  firefox  \n",
       "2                                r matlab machine-learning  \n",
       "3                                          c# url encoding  \n",
       "4                                php api file-get-contents  \n",
       "...                                                    ...  \n",
       "3017092                     c# web-services abstract-class  \n",
       "3017093                              iphone multithreading  \n",
       "3017094                                       sitefinity-4  \n",
       "3017095                                 cocoa progress-bar  \n",
       "3017096                               php html post header  \n",
       "\n",
       "[3017092 rows x 4 columns]"
      ]
     },
     "execution_count": 12,
     "metadata": {},
     "output_type": "execute_result"
    }
   ],
   "source": [
    "train.dropna()"
   ]
  },
  {
   "cell_type": "markdown",
   "metadata": {},
   "source": [
    "Tags count."
   ]
  },
  {
   "cell_type": "code",
   "execution_count": 13,
   "metadata": {
    "colab": {
     "base_uri": "https://localhost:8080/"
    },
    "id": "4ARdqlVj7eTH",
    "outputId": "a198faf5-9685-46cd-aabf-29bb7edf2a6d"
   },
   "outputs": [
    {
     "data": {
      "text/plain": [
       "android                             24870\n",
       "php                                 15254\n",
       "jquery                              13921\n",
       "javascript                          12605\n",
       "javascript jquery                   12528\n",
       "                                    ...  \n",
       "comparison order multi-language         1\n",
       "java android sqlite table flags         1\n",
       ".net c++ visual-c++ com                 1\n",
       "javascript url parameters tweets        1\n",
       "drupal recipe custom-pages              1\n",
       "Name: Tags, Length: 1352154, dtype: int64"
      ]
     },
     "execution_count": 13,
     "metadata": {},
     "output_type": "execute_result"
    }
   ],
   "source": [
    "\n",
    "train[\"Tags\"].value_counts()\n"
   ]
  },
  {
   "cell_type": "markdown",
   "metadata": {},
   "source": [
    "Due to Lack of computational power ,Here we are only considering tags which are occuring in atleast 500 questions."
   ]
  },
  {
   "cell_type": "code",
   "execution_count": 14,
   "metadata": {},
   "outputs": [
    {
     "name": "stdout",
     "output_type": "stream",
     "text": [
      "Number of Tags=> 228\n"
     ]
    }
   ],
   "source": [
    "trainns = train.groupby('Tags').filter(lambda x:len(x)>500).reset_index(drop=True)\n",
    "print('Number of Tags=>',len(trainns['Tags'].unique()))"
   ]
  },
  {
   "cell_type": "code",
   "execution_count": 14,
   "metadata": {
    "scrolled": true
   },
   "outputs": [
    {
     "data": {
      "text/html": [
       "<div>\n",
       "<style scoped>\n",
       "    .dataframe tbody tr th:only-of-type {\n",
       "        vertical-align: middle;\n",
       "    }\n",
       "\n",
       "    .dataframe tbody tr th {\n",
       "        vertical-align: top;\n",
       "    }\n",
       "\n",
       "    .dataframe thead th {\n",
       "        text-align: right;\n",
       "    }\n",
       "</style>\n",
       "<table border=\"1\" class=\"dataframe\">\n",
       "  <thead>\n",
       "    <tr style=\"text-align: right;\">\n",
       "      <th></th>\n",
       "      <th>Id</th>\n",
       "      <th>Title</th>\n",
       "      <th>Body</th>\n",
       "      <th>Tags</th>\n",
       "    </tr>\n",
       "  </thead>\n",
       "  <tbody>\n",
       "    <tr>\n",
       "      <th>0</th>\n",
       "      <td>15</td>\n",
       "      <td>Can I stop windows 7 from fading windows on al...</td>\n",
       "      <td>&lt;p&gt;When you hit alt tab on windows 7 and stop ...</td>\n",
       "      <td>windows-7</td>\n",
       "    </tr>\n",
       "    <tr>\n",
       "      <th>1</th>\n",
       "      <td>26</td>\n",
       "      <td>Can i use printf in IO monad?</td>\n",
       "      <td>&lt;p&gt;The stopLoss function causes the following ...</td>\n",
       "      <td>haskell</td>\n",
       "    </tr>\n",
       "    <tr>\n",
       "      <th>2</th>\n",
       "      <td>41</td>\n",
       "      <td>implementing Static library in New iphone App</td>\n",
       "      <td>&lt;p&gt;I have created a static library libTest.a.&lt;...</td>\n",
       "      <td>iphone xcode</td>\n",
       "    </tr>\n",
       "    <tr>\n",
       "      <th>3</th>\n",
       "      <td>54</td>\n",
       "      <td>How to tell emacs to open .h file in C++ mode?</td>\n",
       "      <td>&lt;p&gt;What lines should I add to my _emacs (on Wi...</td>\n",
       "      <td>emacs</td>\n",
       "    </tr>\n",
       "    <tr>\n",
       "      <th>4</th>\n",
       "      <td>57</td>\n",
       "      <td>&lt;textarea/&gt; tag \"swallows\" html</td>\n",
       "      <td>&lt;p&gt;This is a very strange problem I've been st...</td>\n",
       "      <td>html</td>\n",
       "    </tr>\n",
       "    <tr>\n",
       "      <th>...</th>\n",
       "      <td>...</td>\n",
       "      <td>...</td>\n",
       "      <td>...</td>\n",
       "      <td>...</td>\n",
       "    </tr>\n",
       "    <tr>\n",
       "      <th>393081</th>\n",
       "      <td>3017057</td>\n",
       "      <td>Parse Spanish characters in Objective-C using ...</td>\n",
       "      <td>&lt;p&gt;I am using NSXmlParser&lt;/p&gt;\\n\\n&lt;p&gt;I fetch al...</td>\n",
       "      <td>objective-c</td>\n",
       "    </tr>\n",
       "    <tr>\n",
       "      <th>393082</th>\n",
       "      <td>3017069</td>\n",
       "      <td>jquery pictures to same page popup</td>\n",
       "      <td>&lt;p&gt;first time posting here, though have follow...</td>\n",
       "      <td>jquery html css</td>\n",
       "    </tr>\n",
       "    <tr>\n",
       "      <th>393083</th>\n",
       "      <td>3017077</td>\n",
       "      <td>html input button on a table doesn't call any ...</td>\n",
       "      <td>&lt;p&gt;I have a table&lt;/p&gt;\\n\\n&lt;pre&gt;&lt;code&gt;&amp;lt;table ...</td>\n",
       "      <td>javascript jquery html</td>\n",
       "    </tr>\n",
       "    <tr>\n",
       "      <th>393084</th>\n",
       "      <td>3017087</td>\n",
       "      <td>Check two drawable images</td>\n",
       "      <td>&lt;p&gt;All&lt;/p&gt;\\n\\n&lt;p&gt;I have created frame animatio...</td>\n",
       "      <td>android</td>\n",
       "    </tr>\n",
       "    <tr>\n",
       "      <th>393085</th>\n",
       "      <td>3017092</td>\n",
       "      <td>PHP associative-esque array with numbers as keys</td>\n",
       "      <td>&lt;p&gt;I'm a little new to PHP and I'm not sure if...</td>\n",
       "      <td>php arrays</td>\n",
       "    </tr>\n",
       "  </tbody>\n",
       "</table>\n",
       "<p>393086 rows × 4 columns</p>\n",
       "</div>"
      ],
      "text/plain": [
       "             Id                                              Title  \\\n",
       "0            15  Can I stop windows 7 from fading windows on al...   \n",
       "1            26                      Can i use printf in IO monad?   \n",
       "2            41      implementing Static library in New iphone App   \n",
       "3            54     How to tell emacs to open .h file in C++ mode?   \n",
       "4            57                    <textarea/> tag \"swallows\" html   \n",
       "...         ...                                                ...   \n",
       "393081  3017057  Parse Spanish characters in Objective-C using ...   \n",
       "393082  3017069                 jquery pictures to same page popup   \n",
       "393083  3017077  html input button on a table doesn't call any ...   \n",
       "393084  3017087                          Check two drawable images   \n",
       "393085  3017092   PHP associative-esque array with numbers as keys   \n",
       "\n",
       "                                                     Body  \\\n",
       "0       <p>When you hit alt tab on windows 7 and stop ...   \n",
       "1       <p>The stopLoss function causes the following ...   \n",
       "2       <p>I have created a static library libTest.a.<...   \n",
       "3       <p>What lines should I add to my _emacs (on Wi...   \n",
       "4       <p>This is a very strange problem I've been st...   \n",
       "...                                                   ...   \n",
       "393081  <p>I am using NSXmlParser</p>\\n\\n<p>I fetch al...   \n",
       "393082  <p>first time posting here, though have follow...   \n",
       "393083  <p>I have a table</p>\\n\\n<pre><code>&lt;table ...   \n",
       "393084  <p>All</p>\\n\\n<p>I have created frame animatio...   \n",
       "393085  <p>I'm a little new to PHP and I'm not sure if...   \n",
       "\n",
       "                          Tags  \n",
       "0                    windows-7  \n",
       "1                      haskell  \n",
       "2                 iphone xcode  \n",
       "3                        emacs  \n",
       "4                         html  \n",
       "...                        ...  \n",
       "393081             objective-c  \n",
       "393082         jquery html css  \n",
       "393083  javascript jquery html  \n",
       "393084                 android  \n",
       "393085              php arrays  \n",
       "\n",
       "[393086 rows x 4 columns]"
      ]
     },
     "execution_count": 14,
     "metadata": {},
     "output_type": "execute_result"
    }
   ],
   "source": [
    "trainns"
   ]
  },
  {
   "cell_type": "code",
   "execution_count": 16,
   "metadata": {},
   "outputs": [
    {
     "data": {
      "text/plain": [
       "array(['php image-processing file-upload upload mime-types', 'firefox',\n",
       "       'r matlab machine-learning', ...,\n",
       "       'javascript android jquery ios touch', 'cocoa progress-bar',\n",
       "       'php html post header'], dtype=object)"
      ]
     },
     "execution_count": 16,
     "metadata": {},
     "output_type": "execute_result"
    }
   ],
   "source": [
    "train['Tags'].unique()"
   ]
  },
  {
   "cell_type": "code",
   "execution_count": 19,
   "metadata": {},
   "outputs": [],
   "source": [
    "trainns['name']=trainns['Tags'].apply(lambda x:x.split(' ')[0]) "
   ]
  },
  {
   "cell_type": "code",
   "execution_count": 21,
   "metadata": {},
   "outputs": [
    {
     "data": {
      "text/html": [
       "<div>\n",
       "<style scoped>\n",
       "    .dataframe tbody tr th:only-of-type {\n",
       "        vertical-align: middle;\n",
       "    }\n",
       "\n",
       "    .dataframe tbody tr th {\n",
       "        vertical-align: top;\n",
       "    }\n",
       "\n",
       "    .dataframe thead th {\n",
       "        text-align: right;\n",
       "    }\n",
       "</style>\n",
       "<table border=\"1\" class=\"dataframe\">\n",
       "  <thead>\n",
       "    <tr style=\"text-align: right;\">\n",
       "      <th></th>\n",
       "      <th>Id</th>\n",
       "      <th>Title</th>\n",
       "      <th>Body</th>\n",
       "      <th>Tags</th>\n",
       "      <th>name</th>\n",
       "    </tr>\n",
       "  </thead>\n",
       "  <tbody>\n",
       "    <tr>\n",
       "      <th>0</th>\n",
       "      <td>15</td>\n",
       "      <td>Can I stop windows 7 from fading windows on al...</td>\n",
       "      <td>&lt;p&gt;When you hit alt tab on windows 7 and stop ...</td>\n",
       "      <td>windows-7</td>\n",
       "      <td>windows-7</td>\n",
       "    </tr>\n",
       "    <tr>\n",
       "      <th>1</th>\n",
       "      <td>26</td>\n",
       "      <td>Can i use printf in IO monad?</td>\n",
       "      <td>&lt;p&gt;The stopLoss function causes the following ...</td>\n",
       "      <td>haskell</td>\n",
       "      <td>haskell</td>\n",
       "    </tr>\n",
       "    <tr>\n",
       "      <th>2</th>\n",
       "      <td>41</td>\n",
       "      <td>implementing Static library in New iphone App</td>\n",
       "      <td>&lt;p&gt;I have created a static library libTest.a.&lt;...</td>\n",
       "      <td>iphone xcode</td>\n",
       "      <td>iphone</td>\n",
       "    </tr>\n",
       "    <tr>\n",
       "      <th>3</th>\n",
       "      <td>54</td>\n",
       "      <td>How to tell emacs to open .h file in C++ mode?</td>\n",
       "      <td>&lt;p&gt;What lines should I add to my _emacs (on Wi...</td>\n",
       "      <td>emacs</td>\n",
       "      <td>emacs</td>\n",
       "    </tr>\n",
       "    <tr>\n",
       "      <th>4</th>\n",
       "      <td>57</td>\n",
       "      <td>&lt;textarea/&gt; tag \"swallows\" html</td>\n",
       "      <td>&lt;p&gt;This is a very strange problem I've been st...</td>\n",
       "      <td>html</td>\n",
       "      <td>html</td>\n",
       "    </tr>\n",
       "    <tr>\n",
       "      <th>...</th>\n",
       "      <td>...</td>\n",
       "      <td>...</td>\n",
       "      <td>...</td>\n",
       "      <td>...</td>\n",
       "      <td>...</td>\n",
       "    </tr>\n",
       "    <tr>\n",
       "      <th>393081</th>\n",
       "      <td>3017057</td>\n",
       "      <td>Parse Spanish characters in Objective-C using ...</td>\n",
       "      <td>&lt;p&gt;I am using NSXmlParser&lt;/p&gt;\\n\\n&lt;p&gt;I fetch al...</td>\n",
       "      <td>objective-c</td>\n",
       "      <td>objective-c</td>\n",
       "    </tr>\n",
       "    <tr>\n",
       "      <th>393082</th>\n",
       "      <td>3017069</td>\n",
       "      <td>jquery pictures to same page popup</td>\n",
       "      <td>&lt;p&gt;first time posting here, though have follow...</td>\n",
       "      <td>jquery html css</td>\n",
       "      <td>jquery</td>\n",
       "    </tr>\n",
       "    <tr>\n",
       "      <th>393083</th>\n",
       "      <td>3017077</td>\n",
       "      <td>html input button on a table doesn't call any ...</td>\n",
       "      <td>&lt;p&gt;I have a table&lt;/p&gt;\\n\\n&lt;pre&gt;&lt;code&gt;&amp;lt;table ...</td>\n",
       "      <td>javascript jquery html</td>\n",
       "      <td>javascript</td>\n",
       "    </tr>\n",
       "    <tr>\n",
       "      <th>393084</th>\n",
       "      <td>3017087</td>\n",
       "      <td>Check two drawable images</td>\n",
       "      <td>&lt;p&gt;All&lt;/p&gt;\\n\\n&lt;p&gt;I have created frame animatio...</td>\n",
       "      <td>android</td>\n",
       "      <td>android</td>\n",
       "    </tr>\n",
       "    <tr>\n",
       "      <th>393085</th>\n",
       "      <td>3017092</td>\n",
       "      <td>PHP associative-esque array with numbers as keys</td>\n",
       "      <td>&lt;p&gt;I'm a little new to PHP and I'm not sure if...</td>\n",
       "      <td>php arrays</td>\n",
       "      <td>php</td>\n",
       "    </tr>\n",
       "  </tbody>\n",
       "</table>\n",
       "<p>393086 rows × 5 columns</p>\n",
       "</div>"
      ],
      "text/plain": [
       "             Id                                              Title  \\\n",
       "0            15  Can I stop windows 7 from fading windows on al...   \n",
       "1            26                      Can i use printf in IO monad?   \n",
       "2            41      implementing Static library in New iphone App   \n",
       "3            54     How to tell emacs to open .h file in C++ mode?   \n",
       "4            57                    <textarea/> tag \"swallows\" html   \n",
       "...         ...                                                ...   \n",
       "393081  3017057  Parse Spanish characters in Objective-C using ...   \n",
       "393082  3017069                 jquery pictures to same page popup   \n",
       "393083  3017077  html input button on a table doesn't call any ...   \n",
       "393084  3017087                          Check two drawable images   \n",
       "393085  3017092   PHP associative-esque array with numbers as keys   \n",
       "\n",
       "                                                     Body  \\\n",
       "0       <p>When you hit alt tab on windows 7 and stop ...   \n",
       "1       <p>The stopLoss function causes the following ...   \n",
       "2       <p>I have created a static library libTest.a.<...   \n",
       "3       <p>What lines should I add to my _emacs (on Wi...   \n",
       "4       <p>This is a very strange problem I've been st...   \n",
       "...                                                   ...   \n",
       "393081  <p>I am using NSXmlParser</p>\\n\\n<p>I fetch al...   \n",
       "393082  <p>first time posting here, though have follow...   \n",
       "393083  <p>I have a table</p>\\n\\n<pre><code>&lt;table ...   \n",
       "393084  <p>All</p>\\n\\n<p>I have created frame animatio...   \n",
       "393085  <p>I'm a little new to PHP and I'm not sure if...   \n",
       "\n",
       "                          Tags         name  \n",
       "0                    windows-7    windows-7  \n",
       "1                      haskell      haskell  \n",
       "2                 iphone xcode       iphone  \n",
       "3                        emacs        emacs  \n",
       "4                         html         html  \n",
       "...                        ...          ...  \n",
       "393081             objective-c  objective-c  \n",
       "393082         jquery html css       jquery  \n",
       "393083  javascript jquery html   javascript  \n",
       "393084                 android      android  \n",
       "393085              php arrays          php  \n",
       "\n",
       "[393086 rows x 5 columns]"
      ]
     },
     "execution_count": 21,
     "metadata": {},
     "output_type": "execute_result"
    }
   ],
   "source": [
    "trainns"
   ]
  },
  {
   "cell_type": "code",
   "execution_count": 94,
   "metadata": {},
   "outputs": [
    {
     "name": "stdout",
     "output_type": "stream",
     "text": [
      "Title 1:\n",
      " CSS hover change other class\n",
      "Title 2:\n",
      " UNIX_TIMESTAMP in SQL Server\n",
      "Title 3:\n",
      " Add items in a list/sequence in Clojure\n",
      "Title 4:\n",
      " Simple REGEX - How to get all lines beginning with \"|\" - [Pipeline] to the line above ending with [Pipeline]\n",
      "Title 5:\n",
      " Accessing localhost of PC from USB connected Android mobile device\n"
     ]
    }
   ],
   "source": [
    "for index,text in enumerate(trainns['Title'][35:40]):\n",
    "  print('Title %d:\\n'%(index+1),text)"
   ]
  },
  {
   "cell_type": "markdown",
   "metadata": {},
   "source": [
    "Expanding Contractions"
   ]
  },
  {
   "cell_type": "code",
   "execution_count": 25,
   "metadata": {},
   "outputs": [],
   "source": [
    "import re\n",
    "contractions_dict = { \"ain't\": \"are not\",\"'s\":\" is\",\"aren't\": \"are not\",\n",
    "                     \"can't\": \"cannot\",\"can't've\": \"cannot have\",\n",
    "                     \"'cause\": \"because\",\"could've\": \"could have\",\"couldn't\": \"could not\",\n",
    "                     \"couldn't've\": \"could not have\", \"didn't\": \"did not\",\"doesn't\": \"does not\",\n",
    "                     \"don't\": \"do not\",\"hadn't\": \"had not\",\"hadn't've\": \"had not have\",\n",
    "                     \"hasn't\": \"has not\",\"haven't\": \"have not\",\"he'd\": \"he would\",\n",
    "                     \"he'd've\": \"he would have\",\"he'll\": \"he will\", \"he'll've\": \"he will have\",\n",
    "                     \"how'd\": \"how did\",\"how'd'y\": \"how do you\",\"how'll\": \"how will\",\n",
    "                     \"I'd\": \"I would\", \"I'd've\": \"I would have\",\"I'll\": \"I will\",\n",
    "                     \"I'll've\": \"I will have\",\"I'm\": \"I am\",\"I've\": \"I have\", \"isn't\": \"is not\",\n",
    "                     \"it'd\": \"it would\",\"it'd've\": \"it would have\",\"it'll\": \"it will\",\n",
    "                     \"it'll've\": \"it will have\", \"let's\": \"let us\",\"ma'am\": \"madam\",\n",
    "                     \"mayn't\": \"may not\",\"might've\": \"might have\",\"mightn't\": \"might not\", \n",
    "                     \"mightn't've\": \"might not have\",\"must've\": \"must have\",\"mustn't\": \"must not\",\n",
    "                     \"mustn't've\": \"must not have\", \"needn't\": \"need not\",\n",
    "                     \"needn't've\": \"need not have\",\"o'clock\": \"of the clock\",\"oughtn't\": \"ought not\",\n",
    "                     \"oughtn't've\": \"ought not have\",\"shan't\": \"shall not\",\"sha'n't\": \"shall not\",\n",
    "                     \"shan't've\": \"shall not have\",\"she'd\": \"she would\",\"she'd've\": \"she would have\",\n",
    "                     \"she'll\": \"she will\", \"she'll've\": \"she will have\",\"should've\": \"should have\",\n",
    "                     \"shouldn't\": \"should not\", \"shouldn't've\": \"should not have\",\"so've\": \"so have\",\n",
    "                     \"that'd\": \"that would\",\"that'd've\": \"that would have\", \"there'd\": \"there would\",\n",
    "                     \"there'd've\": \"there would have\", \"they'd\": \"they would\",\n",
    "                     \"they'd've\": \"they would have\",\"they'll\": \"they will\",\n",
    "                     \"they'll've\": \"they will have\", \"they're\": \"they are\",\"they've\": \"they have\",\n",
    "                     \"to've\": \"to have\",\"wasn't\": \"was not\",\"we'd\": \"we would\",\n",
    "                     \"we'd've\": \"we would have\",\"we'll\": \"we will\",\"we'll've\": \"we will have\",\n",
    "                     \"we're\": \"we are\",\"we've\": \"we have\", \"weren't\": \"were not\",\"what'll\": \"what will\",\n",
    "                     \"what'll've\": \"what will have\",\"what're\": \"what are\", \"what've\": \"what have\",\n",
    "                     \"when've\": \"when have\",\"where'd\": \"where did\", \"where've\": \"where have\",\n",
    "                     \"who'll\": \"who will\",\"who'll've\": \"who will have\",\"who've\": \"who have\",\n",
    "                     \"why've\": \"why have\",\"will've\": \"will have\",\"won't\": \"will not\",\n",
    "                     \"won't've\": \"will not have\", \"would've\": \"would have\",\"wouldn't\": \"would not\",\n",
    "                     \"wouldn't've\": \"would not have\",\"y'all\": \"you all\", \"y'all'd\": \"you all would\",\n",
    "                     \"y'all'd've\": \"you all would have\",\"y'all're\": \"you all are\",\n",
    "                     \"y'all've\": \"you all have\", \"you'd\": \"you would\",\"you'd've\": \"you would have\",\n",
    "                     \"you'll\": \"you will\",\"you'll've\": \"you will have\", \"you're\": \"you are\",\n",
    "                     \"you've\": \"you have\"}\n",
    "\n",
    "# Regular expression for finding contractions\n",
    "contractions_re=re.compile('(%s)' % '|'.join(contractions_dict.keys()))\n",
    "\n",
    "# Function for expanding contractions\n",
    "def expand_contractions(text,contractions_dict=contractions_dict):\n",
    "  def replace(match):\n",
    "    return contractions_dict[match.group(0)]\n",
    "  return contractions_re.sub(replace, text)\n",
    "\n",
    "# Expanding Contractions in the reviews\n",
    "trainns['Title']=trainns['Title'].apply(lambda x:expand_contractions(x))"
   ]
  },
  {
   "cell_type": "markdown",
   "metadata": {},
   "source": [
    "Removing Html Tags"
   ]
  },
  {
   "cell_type": "code",
   "execution_count": 27,
   "metadata": {},
   "outputs": [],
   "source": [
    "\n",
    "TAG_RE = re.compile(r'<[^>]+>')\n",
    "\n",
    "def remove_tags(text):\n",
    "    return TAG_RE.sub('', text)\n",
    "trainns['Body']=trainns['Body'].apply(lambda x:remove_tags(x))"
   ]
  },
  {
   "cell_type": "code",
   "execution_count": 35,
   "metadata": {
    "scrolled": true
   },
   "outputs": [
    {
     "data": {
      "text/plain": [
       "0         When you hit alt tab on windows 7 and stop for...\n",
       "1         The stopLoss function causes the following err...\n",
       "2         I have created a static library libTest.a.i am...\n",
       "3         What lines should I add to my _emacs (on Windo...\n",
       "4         This is a very strange problem I have been str...\n",
       "                                ...                        \n",
       "393081    I am using NSXmlParserI fetch all the data fro...\n",
       "393082    first time posting here, though have followed ...\n",
       "393083    I have a table&lt;table style=\"width: 100%;\" c...\n",
       "393084    AllI have created frame animation using Animat...\n",
       "393085    I am a little new to PHP and I am not sure if ...\n",
       "Name: Body, Length: 393086, dtype: object"
      ]
     },
     "execution_count": 35,
     "metadata": {},
     "output_type": "execute_result"
    }
   ],
   "source": [
    "trainns['Body']"
   ]
  },
  {
   "cell_type": "markdown",
   "metadata": {},
   "source": [
    "Expanding Contractions"
   ]
  },
  {
   "cell_type": "code",
   "execution_count": 32,
   "metadata": {},
   "outputs": [],
   "source": [
    "trainns['Body']=trainns['Body'].apply(lambda x:x.replace(\"\\n\", \"\"))"
   ]
  },
  {
   "cell_type": "code",
   "execution_count": 34,
   "metadata": {},
   "outputs": [],
   "source": [
    "contractions_dict = { \"ain't\": \"are not\",\"'s\":\" is\",\"aren't\": \"are not\",\n",
    "                     \"can't\": \"cannot\",\"can't've\": \"cannot have\",\n",
    "                     \"'cause\": \"because\",\"could've\": \"could have\",\"couldn't\": \"could not\",\n",
    "                     \"couldn't've\": \"could not have\", \"didn't\": \"did not\",\"doesn't\": \"does not\",\n",
    "                     \"don't\": \"do not\",\"hadn't\": \"had not\",\"hadn't've\": \"had not have\",\n",
    "                     \"hasn't\": \"has not\",\"haven't\": \"have not\",\"he'd\": \"he would\",\n",
    "                     \"he'd've\": \"he would have\",\"he'll\": \"he will\", \"he'll've\": \"he will have\",\n",
    "                     \"how'd\": \"how did\",\"how'd'y\": \"how do you\",\"how'll\": \"how will\",\n",
    "                     \"I'd\": \"I would\", \"I'd've\": \"I would have\",\"I'll\": \"I will\",\n",
    "                     \"I'll've\": \"I will have\",\"I'm\": \"I am\",\"I've\": \"I have\", \"isn't\": \"is not\",\n",
    "                     \"it'd\": \"it would\",\"it'd've\": \"it would have\",\"it'll\": \"it will\",\n",
    "                     \"it'll've\": \"it will have\", \"let's\": \"let us\",\"ma'am\": \"madam\",\n",
    "                     \"mayn't\": \"may not\",\"might've\": \"might have\",\"mightn't\": \"might not\", \n",
    "                     \"mightn't've\": \"might not have\",\"must've\": \"must have\",\"mustn't\": \"must not\",\n",
    "                     \"mustn't've\": \"must not have\", \"needn't\": \"need not\",\n",
    "                     \"needn't've\": \"need not have\",\"o'clock\": \"of the clock\",\"oughtn't\": \"ought not\",\n",
    "                     \"oughtn't've\": \"ought not have\",\"shan't\": \"shall not\",\"sha'n't\": \"shall not\",\n",
    "                     \"shan't've\": \"shall not have\",\"she'd\": \"she would\",\"she'd've\": \"she would have\",\n",
    "                     \"she'll\": \"she will\", \"she'll've\": \"she will have\",\"should've\": \"should have\",\n",
    "                     \"shouldn't\": \"should not\", \"shouldn't've\": \"should not have\",\"so've\": \"so have\",\n",
    "                     \"that'd\": \"that would\",\"that'd've\": \"that would have\", \"there'd\": \"there would\",\n",
    "                     \"there'd've\": \"there would have\", \"they'd\": \"they would\",\n",
    "                     \"they'd've\": \"they would have\",\"they'll\": \"they will\",\n",
    "                     \"they'll've\": \"they will have\", \"they're\": \"they are\",\"they've\": \"they have\",\n",
    "                     \"to've\": \"to have\",\"wasn't\": \"was not\",\"we'd\": \"we would\",\n",
    "                     \"we'd've\": \"we would have\",\"we'll\": \"we will\",\"we'll've\": \"we will have\",\n",
    "                     \"we're\": \"we are\",\"we've\": \"we have\", \"weren't\": \"were not\",\"what'll\": \"what will\",\n",
    "                     \"what'll've\": \"what will have\",\"what're\": \"what are\", \"what've\": \"what have\",\n",
    "                     \"when've\": \"when have\",\"where'd\": \"where did\", \"where've\": \"where have\",\n",
    "                     \"who'll\": \"who will\",\"who'll've\": \"who will have\",\"who've\": \"who have\",\n",
    "                     \"why've\": \"why have\",\"will've\": \"will have\",\"won't\": \"will not\",\n",
    "                     \"won't've\": \"will not have\", \"would've\": \"would have\",\"wouldn't\": \"would not\",\n",
    "                     \"wouldn't've\": \"would not have\",\"y'all\": \"you all\", \"y'all'd\": \"you all would\",\n",
    "                     \"y'all'd've\": \"you all would have\",\"y'all're\": \"you all are\",\n",
    "                     \"y'all've\": \"you all have\", \"you'd\": \"you would\",\"you'd've\": \"you would have\",\n",
    "                     \"you'll\": \"you will\",\"you'll've\": \"you will have\", \"you're\": \"you are\",\n",
    "                     \"you've\": \"you have\"}\n",
    "\n",
    "# Regular expression for finding contractions\n",
    "contractions_re=re.compile('(%s)' % '|'.join(contractions_dict.keys()))\n",
    "\n",
    "# Function for expanding contractions\n",
    "def expand_contractions(text,contractions_dict=contractions_dict):\n",
    "  def replace(match):\n",
    "    return contractions_dict[match.group(0)]\n",
    "  return contractions_re.sub(replace, text)\n",
    "\n",
    "# Expanding Contractions in the reviews\n",
    "trainns['Body']=trainns['Body'].apply(lambda x:expand_contractions(x))"
   ]
  },
  {
   "cell_type": "markdown",
   "metadata": {},
   "source": [
    " Converting Body and Title to lower case"
   ]
  },
  {
   "cell_type": "code",
   "execution_count": 36,
   "metadata": {},
   "outputs": [],
   "source": [
    "trainns['cleanedTitle']=trainns['Title'].apply(lambda x: x.lower())\n",
    "trainns['cleanedBody']=trainns['Body'].apply(lambda x: x.lower())"
   ]
  },
  {
   "cell_type": "markdown",
   "metadata": {},
   "source": [
    "Removing Punctuations"
   ]
  },
  {
   "cell_type": "code",
   "execution_count": 39,
   "metadata": {},
   "outputs": [],
   "source": [
    "import string\n",
    "trainns['cleanedTitle']=trainns['cleanedTitle'].apply(lambda x: re.sub('[%s]' % re.escape(string.punctuation), '', x))\n",
    "trainns['cleanedBody']=trainns['cleanedBody'].apply(lambda x: re.sub('[%s]' % re.escape(string.punctuation), '', x))"
   ]
  },
  {
   "cell_type": "markdown",
   "metadata": {},
   "source": [
    "Removing extra space"
   ]
  },
  {
   "cell_type": "code",
   "execution_count": 40,
   "metadata": {},
   "outputs": [],
   "source": [
    "\n",
    "trainns['cleanedTitle']=trainns['cleanedTitle'].apply(lambda x: re.sub(' +',' ',x))\n",
    "trainns['cleanedBody']=trainns['cleanedBody'].apply(lambda x: re.sub(' +',' ',x))"
   ]
  },
  {
   "cell_type": "code",
   "execution_count": 95,
   "metadata": {},
   "outputs": [
    {
     "name": "stdout",
     "output_type": "stream",
     "text": [
      "Title 1:\n",
      " css hover change other class\n",
      "Title 2:\n",
      " unixtimestamp in sql server\n",
      "Title 3:\n",
      " add items in a listsequence in clojure\n",
      "Title 4:\n",
      " simple regex how to get all lines beginning with pipeline to the line above ending with pipeline\n",
      "Title 5:\n",
      " accessing localhost of pc from usb connected android mobile device\n"
     ]
    }
   ],
   "source": [
    "for index,text in enumerate(trainns['cleanedTitle'][35:40]):\n",
    "  print('Title %d:\\n'%(index+1),text)"
   ]
  },
  {
   "cell_type": "code",
   "execution_count": 96,
   "metadata": {},
   "outputs": [
    {
     "name": "stdout",
     "output_type": "stream",
     "text": [
      "Body 1:\n",
      " is there a way to change the class of an other object when i hover over an objecta menuitem has to change when i hover over the submenui haveulmenu menulink padding0px 13px 0px height23px fontweightbold widthautoulmenu ul lihover menulink color002d36 backgroundimagenone backgroundcolorffffffhtmlltul classmenu idmenugt ltligt lta href classmenulinkgtltspangtmain menu itemltspangtltagt ltulgt ltligtlta hrefgtlinkltagtltligt ltligtlta hrefgtlinkltagtltligt ltligtlta hrefgtlinkltagtltligt ltulgt ltligtltulgti also tried jquery ulmenu ul limouseoverfunction menulinkcsscolor 002d36 menulinkcssbackgroundcolor ffffff ulmenu ul limouseoutfunction menulinkcsscolor menulinkcssbackgroundcolor but that changes the other main menu items aswellanyone knows howthanks in advance\n",
      "Body 2:\n",
      " i need to create a function in sql server 2008 that will mimic mysql is unixtimestamp any help will be appreciatedthanks in advance \n",
      "Body 3:\n",
      " there has to be a simple way to do this and i am obviously missing it how do you add the items in a listsequence not clear on the difference in clojurei have tried the followingclojuregt add 1 2 3javalangruntimeexception unable to resolve symbol add in this contextclojuregt 1 2 3javalangclasscastexception cannot cast clojurelangpersistentvector to javalangnumberclojuregt apply mergewith 1 2 3javalangillegalargumentexception dont know how to create iseq from javalanglongclojuregt additems 1 2 3javalangruntimeexception unable to resolve symbol additems in this context\n",
      "Body 4:\n",
      " explanationwith the help of regex i am trying to convert italian synonym database to the following formatsynonym1synonym2synonym3anothersynonym1anothersynonym2at this moment i have unconverted synonyms database in this formata wordper it is synonymverso another synonym of the word a in the second rowabate second wordprioresuperioreabbacchiareavviliredeprimereabbacchiarsiabbattersiabbiosciarsiaccasciarsiclarificationi would like to use regular expression to match all lines beginning with pipeline and move them to the line above to merge with the word matching with lines ending with pipeline and also moving in rows beginning with second third fourth lines of synonyms which may be merged together obviously when merged lines with ending and beginning pipelines one of the pipelines should removed to get desired formatexample of the converted database from unconverted database aboveaperversoabateprioresuperioreabbachiareavviliredeprimereabbachiarsiabbattersiabbiosciarsiaccasciarsican anybody help me to find exact regular expression by using function find and replace with any text editor\n",
      "Body 5:\n",
      " i have an android device samsung galaxy tab connected to my pc via usb i want to use webservices and run a web page which is located on my local xampp server of my pc on my android device i can achieve it if i have both my pc and android device connected on the same wireless network however is it possible to access the localhost page without any wireless connection using only usb connection ps this same scenario works when i run the app on an emulator and use the ip 10022 to access the localhost on my pc\n"
     ]
    }
   ],
   "source": [
    "for index,text in enumerate(trainns['cleanedBody'][35:40]):\n",
    "  print('Body %d:\\n'%(index+1),text)"
   ]
  },
  {
   "cell_type": "markdown",
   "metadata": {},
   "source": [
    "Removing Stop words and Lemmatization for Title and Body"
   ]
  },
  {
   "cell_type": "code",
   "execution_count": 46,
   "metadata": {},
   "outputs": [],
   "source": [
    "import spacy\n",
    "from spacy.lang.en.examples import sentences\n",
    "\n",
    "# Loading model\n",
    "nlp = spacy.load('en_core_web_sm',disable=['parser', 'ner'])\n",
    "\n",
    "# Lemmatization with stopwords removal\n",
    "trainns['lemmatizedTitle']=trainns['cleanedTitle'].apply(lambda x: ' '.join([token.lemma_ for token in list(nlp(x)) if (token.is_stop==False)]))\n"
   ]
  },
  {
   "cell_type": "code",
   "execution_count": 47,
   "metadata": {},
   "outputs": [],
   "source": [
    "# Loading model\n",
    "nlp = spacy.load('en_core_web_sm',disable=['parser', 'ner'])\n",
    "\n",
    "# Lemmatization with stopwords removal\n",
    "trainns['lemmatizedBody']=trainns['cleanedBody'].apply(lambda x: ' '.join([token.lemma_ for token in list(nlp(x)) if (token.is_stop==False)]))\n"
   ]
  },
  {
   "cell_type": "code",
   "execution_count": 49,
   "metadata": {},
   "outputs": [
    {
     "data": {
      "text/html": [
       "<div>\n",
       "<style scoped>\n",
       "    .dataframe tbody tr th:only-of-type {\n",
       "        vertical-align: middle;\n",
       "    }\n",
       "\n",
       "    .dataframe tbody tr th {\n",
       "        vertical-align: top;\n",
       "    }\n",
       "\n",
       "    .dataframe thead th {\n",
       "        text-align: right;\n",
       "    }\n",
       "</style>\n",
       "<table border=\"1\" class=\"dataframe\">\n",
       "  <thead>\n",
       "    <tr style=\"text-align: right;\">\n",
       "      <th></th>\n",
       "      <th>lemmatizedTitle</th>\n",
       "      <th>lemmatizedBody</th>\n",
       "    </tr>\n",
       "    <tr>\n",
       "      <th>Tags</th>\n",
       "      <th></th>\n",
       "      <th></th>\n",
       "    </tr>\n",
       "  </thead>\n",
       "  <tbody>\n",
       "    <tr>\n",
       "      <th>.htaccess</th>\n",
       "      <td>assign file extension particular parser htacce...</td>\n",
       "      <td>suppose want file name myexcellentpage parse p...</td>\n",
       "    </tr>\n",
       "    <tr>\n",
       "      <th>.htaccess mod-rewrite</th>\n",
       "      <td>htaccess modrewrite rewriterule category modre...</td>\n",
       "      <td>want httpwwwmywebsitecomcd2012legal httpwwwmyw...</td>\n",
       "    </tr>\n",
       "    <tr>\n",
       "      <th>.net</th>\n",
       "      <td>unable detect net 35 net 20 instal net 40 vs20...</td>\n",
       "      <td>application require net 20 35 run instal vs 20...</td>\n",
       "    </tr>\n",
       "    <tr>\n",
       "      <th>abstract-algebra</th>\n",
       "      <td>set function form monoid gaussian prime p equi...</td>\n",
       "      <td>understand monoid sure set function compositio...</td>\n",
       "    </tr>\n",
       "    <tr>\n",
       "      <th>abstract-algebra group-theory</th>\n",
       "      <td>problem group theory psylow subgroup normalize...</td>\n",
       "      <td>let g group integer ngt 1 abnan bn abin g 1 gn...</td>\n",
       "    </tr>\n",
       "  </tbody>\n",
       "</table>\n",
       "</div>"
      ],
      "text/plain": [
       "                                                                 lemmatizedTitle  \\\n",
       "Tags                                                                               \n",
       ".htaccess                      assign file extension particular parser htacce...   \n",
       ".htaccess mod-rewrite          htaccess modrewrite rewriterule category modre...   \n",
       ".net                           unable detect net 35 net 20 instal net 40 vs20...   \n",
       "abstract-algebra               set function form monoid gaussian prime p equi...   \n",
       "abstract-algebra group-theory  problem group theory psylow subgroup normalize...   \n",
       "\n",
       "                                                                  lemmatizedBody  \n",
       "Tags                                                                              \n",
       ".htaccess                      suppose want file name myexcellentpage parse p...  \n",
       ".htaccess mod-rewrite          want httpwwwmywebsitecomcd2012legal httpwwwmyw...  \n",
       ".net                           application require net 20 35 run instal vs 20...  \n",
       "abstract-algebra               understand monoid sure set function compositio...  \n",
       "abstract-algebra group-theory  let g group integer ngt 1 abnan bn abin g 1 gn...  "
      ]
     },
     "execution_count": 49,
     "metadata": {},
     "output_type": "execute_result"
    }
   ],
   "source": [
    "df_grouped=trainns[['Tags','lemmatizedTitle','lemmatizedBody']].groupby(by='Tags').agg(lambda x:' '.join(x))\n",
    "df_grouped.head()"
   ]
  },
  {
   "cell_type": "code",
   "execution_count": 50,
   "metadata": {},
   "outputs": [
    {
     "data": {
      "text/html": [
       "<div>\n",
       "<style scoped>\n",
       "    .dataframe tbody tr th:only-of-type {\n",
       "        vertical-align: middle;\n",
       "    }\n",
       "\n",
       "    .dataframe tbody tr th {\n",
       "        vertical-align: top;\n",
       "    }\n",
       "\n",
       "    .dataframe thead th {\n",
       "        text-align: right;\n",
       "    }\n",
       "</style>\n",
       "<table border=\"1\" class=\"dataframe\">\n",
       "  <thead>\n",
       "    <tr style=\"text-align: right;\">\n",
       "      <th></th>\n",
       "      <th>lemmatizedTitle</th>\n",
       "      <th>lemmatizedBody</th>\n",
       "    </tr>\n",
       "    <tr>\n",
       "      <th>name</th>\n",
       "      <th></th>\n",
       "      <th></th>\n",
       "    </tr>\n",
       "  </thead>\n",
       "  <tbody>\n",
       "    <tr>\n",
       "      <th>.htaccess</th>\n",
       "      <td>htaccess modrewrite rewriterule category assig...</td>\n",
       "      <td>want httpwwwmywebsitecomcd2012legal httpwwwmyw...</td>\n",
       "    </tr>\n",
       "    <tr>\n",
       "      <th>.net</th>\n",
       "      <td>unable detect net 35 net 20 instal net 40 vs20...</td>\n",
       "      <td>application require net 20 35 run instal vs 20...</td>\n",
       "    </tr>\n",
       "    <tr>\n",
       "      <th>abstract-algebra</th>\n",
       "      <td>problem group theory set function form monoid ...</td>\n",
       "      <td>let g group integer ngt 1 abnan bn abin g 1 gn...</td>\n",
       "    </tr>\n",
       "    <tr>\n",
       "      <th>actionscript-3</th>\n",
       "      <td>as3 thumbnail generator box2d flash compile ex...</td>\n",
       "      <td>movieclip 10 frame photo 1024x768 px frame ild...</td>\n",
       "    </tr>\n",
       "    <tr>\n",
       "      <th>algebra-precalculus</th>\n",
       "      <td>positive integer p q r exist question universa...</td>\n",
       "      <td>positive integer p q r exist satisfy relation ...</td>\n",
       "    </tr>\n",
       "  </tbody>\n",
       "</table>\n",
       "</div>"
      ],
      "text/plain": [
       "                                                       lemmatizedTitle  \\\n",
       "name                                                                     \n",
       ".htaccess            htaccess modrewrite rewriterule category assig...   \n",
       ".net                 unable detect net 35 net 20 instal net 40 vs20...   \n",
       "abstract-algebra     problem group theory set function form monoid ...   \n",
       "actionscript-3       as3 thumbnail generator box2d flash compile ex...   \n",
       "algebra-precalculus  positive integer p q r exist question universa...   \n",
       "\n",
       "                                                        lemmatizedBody  \n",
       "name                                                                    \n",
       ".htaccess            want httpwwwmywebsitecomcd2012legal httpwwwmyw...  \n",
       ".net                 application require net 20 35 run instal vs 20...  \n",
       "abstract-algebra     let g group integer ngt 1 abnan bn abin g 1 gn...  \n",
       "actionscript-3       movieclip 10 frame photo 1024x768 px frame ild...  \n",
       "algebra-precalculus  positive integer p q r exist satisfy relation ...  "
      ]
     },
     "execution_count": 50,
     "metadata": {},
     "output_type": "execute_result"
    }
   ],
   "source": [
    "df_groupeds=trainns[['name','lemmatizedTitle','lemmatizedBody']].groupby(by='name').agg(lambda x:' '.join(x))\n",
    "df_groupeds.head()"
   ]
  },
  {
   "cell_type": "markdown",
   "metadata": {},
   "source": [
    " Creating Bag of word for Title column"
   ]
  },
  {
   "cell_type": "code",
   "execution_count": 56,
   "metadata": {
    "scrolled": true
   },
   "outputs": [
    {
     "data": {
      "text/html": [
       "<div>\n",
       "<style scoped>\n",
       "    .dataframe tbody tr th:only-of-type {\n",
       "        vertical-align: middle;\n",
       "    }\n",
       "\n",
       "    .dataframe tbody tr th {\n",
       "        vertical-align: top;\n",
       "    }\n",
       "\n",
       "    .dataframe thead th {\n",
       "        text-align: right;\n",
       "    }\n",
       "</style>\n",
       "<table border=\"1\" class=\"dataframe\">\n",
       "  <thead>\n",
       "    <tr style=\"text-align: right;\">\n",
       "      <th></th>\n",
       "      <th>00</th>\n",
       "      <th>000</th>\n",
       "      <th>0000</th>\n",
       "      <th>00000</th>\n",
       "      <th>000000</th>\n",
       "      <th>00000000</th>\n",
       "      <th>000000000</th>\n",
       "      <th>000000000000</th>\n",
       "      <th>0000000000000000000000000000000000000000</th>\n",
       "      <th>0000012</th>\n",
       "      <th>...</th>\n",
       "      <th>сс</th>\n",
       "      <th>тhought</th>\n",
       "      <th>أقول</th>\n",
       "      <th>سایت</th>\n",
       "      <th>همسریابی</th>\n",
       "      <th>ℤnℤ</th>\n",
       "      <th>ℤr</th>\n",
       "      <th>ℤsubset</th>\n",
       "      <th>ﬁeld</th>\n",
       "      <th>ﬂight</th>\n",
       "    </tr>\n",
       "    <tr>\n",
       "      <th>Tags</th>\n",
       "      <th></th>\n",
       "      <th></th>\n",
       "      <th></th>\n",
       "      <th></th>\n",
       "      <th></th>\n",
       "      <th></th>\n",
       "      <th></th>\n",
       "      <th></th>\n",
       "      <th></th>\n",
       "      <th></th>\n",
       "      <th></th>\n",
       "      <th></th>\n",
       "      <th></th>\n",
       "      <th></th>\n",
       "      <th></th>\n",
       "      <th></th>\n",
       "      <th></th>\n",
       "      <th></th>\n",
       "      <th></th>\n",
       "      <th></th>\n",
       "      <th></th>\n",
       "    </tr>\n",
       "  </thead>\n",
       "  <tbody>\n",
       "    <tr>\n",
       "      <th>.htaccess</th>\n",
       "      <td>0</td>\n",
       "      <td>0</td>\n",
       "      <td>0</td>\n",
       "      <td>0</td>\n",
       "      <td>0</td>\n",
       "      <td>0</td>\n",
       "      <td>0</td>\n",
       "      <td>0</td>\n",
       "      <td>0</td>\n",
       "      <td>0</td>\n",
       "      <td>...</td>\n",
       "      <td>0</td>\n",
       "      <td>0</td>\n",
       "      <td>0</td>\n",
       "      <td>0</td>\n",
       "      <td>0</td>\n",
       "      <td>0</td>\n",
       "      <td>0</td>\n",
       "      <td>0</td>\n",
       "      <td>0</td>\n",
       "      <td>0</td>\n",
       "    </tr>\n",
       "    <tr>\n",
       "      <th>.htaccess mod-rewrite</th>\n",
       "      <td>0</td>\n",
       "      <td>0</td>\n",
       "      <td>0</td>\n",
       "      <td>0</td>\n",
       "      <td>0</td>\n",
       "      <td>0</td>\n",
       "      <td>0</td>\n",
       "      <td>0</td>\n",
       "      <td>0</td>\n",
       "      <td>0</td>\n",
       "      <td>...</td>\n",
       "      <td>0</td>\n",
       "      <td>0</td>\n",
       "      <td>0</td>\n",
       "      <td>0</td>\n",
       "      <td>0</td>\n",
       "      <td>0</td>\n",
       "      <td>0</td>\n",
       "      <td>0</td>\n",
       "      <td>0</td>\n",
       "      <td>0</td>\n",
       "    </tr>\n",
       "    <tr>\n",
       "      <th>.net</th>\n",
       "      <td>0</td>\n",
       "      <td>0</td>\n",
       "      <td>0</td>\n",
       "      <td>0</td>\n",
       "      <td>0</td>\n",
       "      <td>0</td>\n",
       "      <td>0</td>\n",
       "      <td>0</td>\n",
       "      <td>0</td>\n",
       "      <td>0</td>\n",
       "      <td>...</td>\n",
       "      <td>0</td>\n",
       "      <td>0</td>\n",
       "      <td>0</td>\n",
       "      <td>0</td>\n",
       "      <td>0</td>\n",
       "      <td>0</td>\n",
       "      <td>0</td>\n",
       "      <td>0</td>\n",
       "      <td>0</td>\n",
       "      <td>0</td>\n",
       "    </tr>\n",
       "  </tbody>\n",
       "</table>\n",
       "<p>3 rows × 68051 columns</p>\n",
       "</div>"
      ],
      "text/plain": [
       "                       00  000  0000  00000  000000  00000000  000000000  \\\n",
       "Tags                                                                       \n",
       ".htaccess               0    0     0      0       0         0          0   \n",
       ".htaccess mod-rewrite   0    0     0      0       0         0          0   \n",
       ".net                    0    0     0      0       0         0          0   \n",
       "\n",
       "                       000000000000  0000000000000000000000000000000000000000  \\\n",
       "Tags                                                                            \n",
       ".htaccess                         0                                         0   \n",
       ".htaccess mod-rewrite             0                                         0   \n",
       ".net                              0                                         0   \n",
       "\n",
       "                       0000012  ...  сс  тhought  أقول  سایت  همسریابی  ℤnℤ  \\\n",
       "Tags                            ...                                           \n",
       ".htaccess                    0  ...   0        0     0     0         0    0   \n",
       ".htaccess mod-rewrite        0  ...   0        0     0     0         0    0   \n",
       ".net                         0  ...   0        0     0     0         0    0   \n",
       "\n",
       "                       ℤr  ℤsubset  ﬁeld  ﬂight  \n",
       "Tags                                             \n",
       ".htaccess               0        0     0      0  \n",
       ".htaccess mod-rewrite   0        0     0      0  \n",
       ".net                    0        0     0      0  \n",
       "\n",
       "[3 rows x 68051 columns]"
      ]
     },
     "execution_count": 56,
     "metadata": {},
     "output_type": "execute_result"
    }
   ],
   "source": [
    "from sklearn.feature_extraction.text import CountVectorizer\n",
    "cv=CountVectorizer(analyzer='word')\n",
    "data=cv.fit_transform(df_grouped['lemmatizedTitle'])\n",
    "df_dtmx = pd.DataFrame(data.toarray(), columns=cv.get_feature_names())\n",
    "df_dtmx.index=df_grouped.index\n",
    "df_dtmx.head(3)"
   ]
  },
  {
   "cell_type": "markdown",
   "metadata": {},
   "source": [
    " Creating Bag of Words for Body column"
   ]
  },
  {
   "cell_type": "code",
   "execution_count": 55,
   "metadata": {
    "scrolled": true
   },
   "outputs": [
    {
     "data": {
      "text/html": [
       "<div>\n",
       "<style scoped>\n",
       "    .dataframe tbody tr th:only-of-type {\n",
       "        vertical-align: middle;\n",
       "    }\n",
       "\n",
       "    .dataframe tbody tr th {\n",
       "        vertical-align: top;\n",
       "    }\n",
       "\n",
       "    .dataframe thead th {\n",
       "        text-align: right;\n",
       "    }\n",
       "</style>\n",
       "<table border=\"1\" class=\"dataframe\">\n",
       "  <thead>\n",
       "    <tr style=\"text-align: right;\">\n",
       "      <th></th>\n",
       "      <th>00</th>\n",
       "      <th>000</th>\n",
       "      <th>0000</th>\n",
       "      <th>00000</th>\n",
       "      <th>000000</th>\n",
       "      <th>0000000</th>\n",
       "      <th>00000000</th>\n",
       "      <th>000000000</th>\n",
       "      <th>0000000000</th>\n",
       "      <th>00000000000</th>\n",
       "      <th>...</th>\n",
       "      <th>ﬁtte</th>\n",
       "      <th>ﬁx</th>\n",
       "      <th>ﬁxe</th>\n",
       "      <th>ﬁxed</th>\n",
       "      <th>ﬂight</th>\n",
       "      <th>ﬂno</th>\n",
       "      <th>ﬂy</th>\n",
       "      <th>３i</th>\n",
       "      <th>ｉam</th>\n",
       "      <th>ﾒi</th>\n",
       "    </tr>\n",
       "    <tr>\n",
       "      <th>Tags</th>\n",
       "      <th></th>\n",
       "      <th></th>\n",
       "      <th></th>\n",
       "      <th></th>\n",
       "      <th></th>\n",
       "      <th></th>\n",
       "      <th></th>\n",
       "      <th></th>\n",
       "      <th></th>\n",
       "      <th></th>\n",
       "      <th></th>\n",
       "      <th></th>\n",
       "      <th></th>\n",
       "      <th></th>\n",
       "      <th></th>\n",
       "      <th></th>\n",
       "      <th></th>\n",
       "      <th></th>\n",
       "      <th></th>\n",
       "      <th></th>\n",
       "      <th></th>\n",
       "    </tr>\n",
       "  </thead>\n",
       "  <tbody>\n",
       "    <tr>\n",
       "      <th>.htaccess</th>\n",
       "      <td>0</td>\n",
       "      <td>0</td>\n",
       "      <td>132</td>\n",
       "      <td>0</td>\n",
       "      <td>1</td>\n",
       "      <td>0</td>\n",
       "      <td>0</td>\n",
       "      <td>0</td>\n",
       "      <td>0</td>\n",
       "      <td>0</td>\n",
       "      <td>...</td>\n",
       "      <td>0</td>\n",
       "      <td>0</td>\n",
       "      <td>0</td>\n",
       "      <td>0</td>\n",
       "      <td>0</td>\n",
       "      <td>0</td>\n",
       "      <td>0</td>\n",
       "      <td>0</td>\n",
       "      <td>0</td>\n",
       "      <td>0</td>\n",
       "    </tr>\n",
       "    <tr>\n",
       "      <th>.htaccess mod-rewrite</th>\n",
       "      <td>0</td>\n",
       "      <td>0</td>\n",
       "      <td>0</td>\n",
       "      <td>0</td>\n",
       "      <td>0</td>\n",
       "      <td>0</td>\n",
       "      <td>0</td>\n",
       "      <td>0</td>\n",
       "      <td>0</td>\n",
       "      <td>0</td>\n",
       "      <td>...</td>\n",
       "      <td>0</td>\n",
       "      <td>0</td>\n",
       "      <td>0</td>\n",
       "      <td>0</td>\n",
       "      <td>0</td>\n",
       "      <td>0</td>\n",
       "      <td>0</td>\n",
       "      <td>0</td>\n",
       "      <td>0</td>\n",
       "      <td>0</td>\n",
       "    </tr>\n",
       "    <tr>\n",
       "      <th>.net</th>\n",
       "      <td>1</td>\n",
       "      <td>1</td>\n",
       "      <td>1</td>\n",
       "      <td>0</td>\n",
       "      <td>2</td>\n",
       "      <td>0</td>\n",
       "      <td>0</td>\n",
       "      <td>0</td>\n",
       "      <td>0</td>\n",
       "      <td>0</td>\n",
       "      <td>...</td>\n",
       "      <td>0</td>\n",
       "      <td>0</td>\n",
       "      <td>0</td>\n",
       "      <td>0</td>\n",
       "      <td>0</td>\n",
       "      <td>0</td>\n",
       "      <td>0</td>\n",
       "      <td>0</td>\n",
       "      <td>0</td>\n",
       "      <td>0</td>\n",
       "    </tr>\n",
       "  </tbody>\n",
       "</table>\n",
       "<p>3 rows × 2472243 columns</p>\n",
       "</div>"
      ],
      "text/plain": [
       "                       00  000  0000  00000  000000  0000000  00000000  \\\n",
       "Tags                                                                     \n",
       ".htaccess               0    0   132      0       1        0         0   \n",
       ".htaccess mod-rewrite   0    0     0      0       0        0         0   \n",
       ".net                    1    1     1      0       2        0         0   \n",
       "\n",
       "                       000000000  0000000000  00000000000  ...  ﬁtte  ﬁx  ﬁxe  \\\n",
       "Tags                                                       ...                  \n",
       ".htaccess                      0           0            0  ...     0   0    0   \n",
       ".htaccess mod-rewrite          0           0            0  ...     0   0    0   \n",
       ".net                           0           0            0  ...     0   0    0   \n",
       "\n",
       "                       ﬁxed  ﬂight  ﬂno  ﬂy  ３i  ｉam  ﾒi  \n",
       "Tags                                                      \n",
       ".htaccess                 0      0    0   0   0    0   0  \n",
       ".htaccess mod-rewrite     0      0    0   0   0    0   0  \n",
       ".net                      0      0    0   0   0    0   0  \n",
       "\n",
       "[3 rows x 2472243 columns]"
      ]
     },
     "execution_count": 55,
     "metadata": {},
     "output_type": "execute_result"
    }
   ],
   "source": [
    "from sklearn.feature_extraction.text import CountVectorizer\n",
    "cv=CountVectorizer(analyzer='word')\n",
    "data=cv.fit_transform(df_grouped['lemmatizedBody'])\n",
    "df_dtm = pd.DataFrame(data.toarray(), columns=cv.get_feature_names())\n",
    "df_dtm.index=df_grouped.index\n",
    "df_dtm.head(3)"
   ]
  },
  {
   "cell_type": "markdown",
   "metadata": {},
   "source": [
    " Creating word cloud for every Tags in Body"
   ]
  },
  {
   "cell_type": "code",
   "execution_count": null,
   "metadata": {},
   "outputs": [],
   "source": [
    "from wordcloud import WordCloud\n",
    "from textwrap import wrap\n",
    "\n",
    "# Function for generating word clouds\n",
    "def generate_wordcloud(data,title):\n",
    "  wc = WordCloud(width=400, height=330, max_words=150,colormap=\"Dark2\").generate_from_frequencies(data)\n",
    "  plt.figure(figsize=(10,8))\n",
    "  plt.imshow(wc, interpolation='bilinear')\n",
    "  plt.axis(\"off\")\n",
    "  plt.title('\\n'.join(wrap(title,60)),fontsize=13)\n",
    "  plt.show()\n",
    "  \n",
    "# Transposing document term matrix\n",
    "df_dtm=df_dtm.transpose()\n",
    "\n",
    "# Plotting word cloud for each product\n",
    "for index,product in enumerate(df_dtm.columns):\n",
    "  generate_wordcloud(df_dtm[product].sort_values(ascending=False),product)"
   ]
  },
  {
   "cell_type": "markdown",
   "metadata": {},
   "source": [
    " Creating Tag Count column"
   ]
  },
  {
   "cell_type": "code",
   "execution_count": 78,
   "metadata": {
    "colab": {
     "base_uri": "https://localhost:8080/",
     "height": 351
    },
    "id": "fCu1FPvO7eTc",
    "outputId": "0ee2c2ca-6a2f-4972-e1ef-4ea5c5c0efe7",
    "scrolled": true
   },
   "outputs": [],
   "source": [
    "trainns['count'] = trainns[\"Tags\"].apply(lambda x: len(x.split(\" \")))\n"
   ]
  },
  {
   "cell_type": "code",
   "execution_count": 79,
   "metadata": {},
   "outputs": [
    {
     "data": {
      "text/html": [
       "<div>\n",
       "<style scoped>\n",
       "    .dataframe tbody tr th:only-of-type {\n",
       "        vertical-align: middle;\n",
       "    }\n",
       "\n",
       "    .dataframe tbody tr th {\n",
       "        vertical-align: top;\n",
       "    }\n",
       "\n",
       "    .dataframe thead th {\n",
       "        text-align: right;\n",
       "    }\n",
       "</style>\n",
       "<table border=\"1\" class=\"dataframe\">\n",
       "  <thead>\n",
       "    <tr style=\"text-align: right;\">\n",
       "      <th></th>\n",
       "      <th>Id</th>\n",
       "      <th>Title</th>\n",
       "      <th>Body</th>\n",
       "      <th>Tags</th>\n",
       "      <th>name</th>\n",
       "      <th>cleanedTitle</th>\n",
       "      <th>cleanedBody</th>\n",
       "      <th>lemmatizedTitle</th>\n",
       "      <th>lemmatizedBody</th>\n",
       "      <th>polarityTitle</th>\n",
       "      <th>polarityBody</th>\n",
       "      <th>count</th>\n",
       "    </tr>\n",
       "  </thead>\n",
       "  <tbody>\n",
       "    <tr>\n",
       "      <th>0</th>\n",
       "      <td>15</td>\n",
       "      <td>Can I stop windows 7 from fading windows on al...</td>\n",
       "      <td>When you hit alt tab on windows 7 and stop for...</td>\n",
       "      <td>windows-7</td>\n",
       "      <td>windows-7</td>\n",
       "      <td>can i stop windows 7 from fading windows on al...</td>\n",
       "      <td>when you hit alt tab on windows 7 and stop for...</td>\n",
       "      <td>stop window 7 fade window alttab</td>\n",
       "      <td>hit alt tab windows 7 stop second window hide ...</td>\n",
       "      <td>0.000000</td>\n",
       "      <td>0.088889</td>\n",
       "      <td>1</td>\n",
       "    </tr>\n",
       "    <tr>\n",
       "      <th>1</th>\n",
       "      <td>26</td>\n",
       "      <td>Can i use printf in IO monad?</td>\n",
       "      <td>The stopLoss function causes the following err...</td>\n",
       "      <td>haskell</td>\n",
       "      <td>haskell</td>\n",
       "      <td>can i use printf in io monad</td>\n",
       "      <td>the stoploss function causes the following err...</td>\n",
       "      <td>use printf io monad</td>\n",
       "      <td>stoploss function cause follow errorcould dedu...</td>\n",
       "      <td>0.000000</td>\n",
       "      <td>0.000000</td>\n",
       "      <td>1</td>\n",
       "    </tr>\n",
       "    <tr>\n",
       "      <th>2</th>\n",
       "      <td>41</td>\n",
       "      <td>implementing Static library in New iphone App</td>\n",
       "      <td>I have created a static library libTest.a.i am...</td>\n",
       "      <td>iphone xcode</td>\n",
       "      <td>iphone</td>\n",
       "      <td>implementing static library in new iphone app</td>\n",
       "      <td>i have created a static library libtestai am a...</td>\n",
       "      <td>implement static library new iphone app</td>\n",
       "      <td>create static library libtestai add library ne...</td>\n",
       "      <td>0.318182</td>\n",
       "      <td>0.351010</td>\n",
       "      <td>2</td>\n",
       "    </tr>\n",
       "    <tr>\n",
       "      <th>3</th>\n",
       "      <td>54</td>\n",
       "      <td>How to tell emacs to open .h file in C++ mode?</td>\n",
       "      <td>What lines should I add to my _emacs (on Windo...</td>\n",
       "      <td>emacs</td>\n",
       "      <td>emacs</td>\n",
       "      <td>how to tell emacs to open h file in c mode</td>\n",
       "      <td>what lines should i add to my emacs on windows...</td>\n",
       "      <td>tell emac open h file c mode</td>\n",
       "      <td>line add emac window file open h file c mode d...</td>\n",
       "      <td>0.000000</td>\n",
       "      <td>0.000000</td>\n",
       "      <td>1</td>\n",
       "    </tr>\n",
       "    <tr>\n",
       "      <th>4</th>\n",
       "      <td>57</td>\n",
       "      <td>&lt;textarea/&gt; tag \"swallows\" html</td>\n",
       "      <td>This is a very strange problem I have been str...</td>\n",
       "      <td>html</td>\n",
       "      <td>html</td>\n",
       "      <td>textarea tag swallows html</td>\n",
       "      <td>this is a very strange problem i have been str...</td>\n",
       "      <td>textarea tag swallow html</td>\n",
       "      <td>strange problem struggle day think relate appl...</td>\n",
       "      <td>0.000000</td>\n",
       "      <td>-0.016667</td>\n",
       "      <td>1</td>\n",
       "    </tr>\n",
       "  </tbody>\n",
       "</table>\n",
       "</div>"
      ],
      "text/plain": [
       "   Id                                              Title  \\\n",
       "0  15  Can I stop windows 7 from fading windows on al...   \n",
       "1  26                      Can i use printf in IO monad?   \n",
       "2  41      implementing Static library in New iphone App   \n",
       "3  54     How to tell emacs to open .h file in C++ mode?   \n",
       "4  57                    <textarea/> tag \"swallows\" html   \n",
       "\n",
       "                                                Body          Tags       name  \\\n",
       "0  When you hit alt tab on windows 7 and stop for...     windows-7  windows-7   \n",
       "1  The stopLoss function causes the following err...       haskell    haskell   \n",
       "2  I have created a static library libTest.a.i am...  iphone xcode     iphone   \n",
       "3  What lines should I add to my _emacs (on Windo...         emacs      emacs   \n",
       "4  This is a very strange problem I have been str...          html       html   \n",
       "\n",
       "                                        cleanedTitle  \\\n",
       "0  can i stop windows 7 from fading windows on al...   \n",
       "1                       can i use printf in io monad   \n",
       "2      implementing static library in new iphone app   \n",
       "3         how to tell emacs to open h file in c mode   \n",
       "4                         textarea tag swallows html   \n",
       "\n",
       "                                         cleanedBody  \\\n",
       "0  when you hit alt tab on windows 7 and stop for...   \n",
       "1  the stoploss function causes the following err...   \n",
       "2  i have created a static library libtestai am a...   \n",
       "3  what lines should i add to my emacs on windows...   \n",
       "4  this is a very strange problem i have been str...   \n",
       "\n",
       "                           lemmatizedTitle  \\\n",
       "0         stop window 7 fade window alttab   \n",
       "1                      use printf io monad   \n",
       "2  implement static library new iphone app   \n",
       "3             tell emac open h file c mode   \n",
       "4                textarea tag swallow html   \n",
       "\n",
       "                                      lemmatizedBody  polarityTitle  \\\n",
       "0  hit alt tab windows 7 stop second window hide ...       0.000000   \n",
       "1  stoploss function cause follow errorcould dedu...       0.000000   \n",
       "2  create static library libtestai add library ne...       0.318182   \n",
       "3  line add emac window file open h file c mode d...       0.000000   \n",
       "4  strange problem struggle day think relate appl...       0.000000   \n",
       "\n",
       "   polarityBody  count  \n",
       "0      0.088889      1  \n",
       "1      0.000000      1  \n",
       "2      0.351010      2  \n",
       "3      0.000000      1  \n",
       "4     -0.016667      1  "
      ]
     },
     "execution_count": 79,
     "metadata": {},
     "output_type": "execute_result"
    }
   ],
   "source": [
    "trainns.head()"
   ]
  },
  {
   "cell_type": "markdown",
   "metadata": {},
   "source": [
    " Average, Maximum and Minimum number of Tags per Question"
   ]
  },
  {
   "cell_type": "code",
   "execution_count": 82,
   "metadata": {},
   "outputs": [
    {
     "name": "stdout",
     "output_type": "stream",
     "text": [
      "Maximum number of tags per question = 4\n",
      "Minimum number of tags per question = 1\n",
      "Avg number of tags per question = 1.4163618139541982\n"
     ]
    }
   ],
   "source": [
    "\n",
    "print(\"Maximum number of tags per question = \"+str(max(trainns['count'])))\n",
    "print(\"Minimum number of tags per question = \"+str(min(trainns['count'])))\n",
    "print(\"Avg number of tags per question = \"+str(sum(trainns['count'])/len(trainns['count'])))"
   ]
  },
  {
   "cell_type": "markdown",
   "metadata": {},
   "source": [
    " Distribution of Tags per Question"
   ]
  },
  {
   "cell_type": "code",
   "execution_count": 83,
   "metadata": {},
   "outputs": [
    {
     "name": "stderr",
     "output_type": "stream",
     "text": [
      "D:\\Ana\\Anaconda3\\lib\\site-packages\\seaborn\\_decorators.py:36: FutureWarning: Pass the following variable as a keyword arg: x. From version 0.12, the only valid positional argument will be `data`, and passing other arguments without an explicit keyword will result in an error or misinterpretation.\n",
      "  warnings.warn(\n"
     ]
    },
    {
     "data": {
      "image/png": "[encoded data removed]",
      "text/plain": [
       "<Figure size 576x432 with 1 Axes>"
      ]
     },
     "metadata": {
      "needs_background": "light"
     },
     "output_type": "display_data"
    }
   ],
   "source": [
    "fig = plt.figure(figsize = (8, 6))\n",
    "axes = fig.add_axes([0.1,0.1,1,1])\n",
    "axes.set_title(\"Distribution of Tags per Question\", fontsize = 20)\n",
    "axes.set_xlabel(\"Tags\", fontsize = 20)\n",
    "axes.set_ylabel(\"Count\", fontsize = 20)\n",
    "plt.grid(linestyle='-', linewidth=0.5)\n",
    "axes.tick_params(labelsize = 15)\n",
    "sns.countplot(list(trainns['count']), ax = axes)\n",
    "for i in axes.patches:\n",
    "    axes.text(i.get_x()+0.09, i.get_height()+9500, str(round(i.get_height(), 2)), fontsize=16, color='black')\n",
    "plt.show()"
   ]
  },
  {
   "cell_type": "markdown",
   "metadata": {},
   "source": [
    " Total number of Unique Tags"
   ]
  },
  {
   "cell_type": "code",
   "execution_count": 84,
   "metadata": {},
   "outputs": [],
   "source": [
    "vectorizer = CountVectorizer(tokenizer = lambda x: x.split(\" \"))\n",
    "data_bow = vectorizer.fit_transform(trainns['Tags'])"
   ]
  },
  {
   "cell_type": "code",
   "execution_count": 85,
   "metadata": {},
   "outputs": [
    {
     "name": "stdout",
     "output_type": "stream",
     "text": [
      "Total number of datapoints = 393086\n",
      "Total number of unique tags = 153\n"
     ]
    }
   ],
   "source": [
    "print(\"Total number of datapoints = {}\".format(data_bow.shape[0]))\n",
    "print(\"Total number of unique tags = {}\".format(data_bow.shape[1]))"
   ]
  },
  {
   "cell_type": "markdown",
   "metadata": {},
   "source": [
    " Tags Count"
   ]
  },
  {
   "cell_type": "code",
   "execution_count": 87,
   "metadata": {},
   "outputs": [
    {
     "data": {
      "text/html": [
       "<div>\n",
       "<style scoped>\n",
       "    .dataframe tbody tr th:only-of-type {\n",
       "        vertical-align: middle;\n",
       "    }\n",
       "\n",
       "    .dataframe tbody tr th {\n",
       "        vertical-align: top;\n",
       "    }\n",
       "\n",
       "    .dataframe thead th {\n",
       "        text-align: right;\n",
       "    }\n",
       "</style>\n",
       "<table border=\"1\" class=\"dataframe\">\n",
       "  <thead>\n",
       "    <tr style=\"text-align: right;\">\n",
       "      <th></th>\n",
       "      <th>Tags</th>\n",
       "      <th>Count</th>\n",
       "    </tr>\n",
       "  </thead>\n",
       "  <tbody>\n",
       "    <tr>\n",
       "      <th>0</th>\n",
       "      <td>javascript</td>\n",
       "      <td>42955</td>\n",
       "    </tr>\n",
       "    <tr>\n",
       "      <th>1</th>\n",
       "      <td>jquery</td>\n",
       "      <td>41892</td>\n",
       "    </tr>\n",
       "    <tr>\n",
       "      <th>2</th>\n",
       "      <td>php</td>\n",
       "      <td>40921</td>\n",
       "    </tr>\n",
       "    <tr>\n",
       "      <th>3</th>\n",
       "      <td>android</td>\n",
       "      <td>36818</td>\n",
       "    </tr>\n",
       "    <tr>\n",
       "      <th>4</th>\n",
       "      <td>c#</td>\n",
       "      <td>28393</td>\n",
       "    </tr>\n",
       "    <tr>\n",
       "      <th>5</th>\n",
       "      <td>java</td>\n",
       "      <td>23241</td>\n",
       "    </tr>\n",
       "    <tr>\n",
       "      <th>6</th>\n",
       "      <td>html</td>\n",
       "      <td>20537</td>\n",
       "    </tr>\n",
       "    <tr>\n",
       "      <th>7</th>\n",
       "      <td>mysql</td>\n",
       "      <td>19792</td>\n",
       "    </tr>\n",
       "    <tr>\n",
       "      <th>8</th>\n",
       "      <td>css</td>\n",
       "      <td>17258</td>\n",
       "    </tr>\n",
       "    <tr>\n",
       "      <th>9</th>\n",
       "      <td>iphone</td>\n",
       "      <td>14099</td>\n",
       "    </tr>\n",
       "    <tr>\n",
       "      <th>10</th>\n",
       "      <td>sql</td>\n",
       "      <td>12891</td>\n",
       "    </tr>\n",
       "    <tr>\n",
       "      <th>11</th>\n",
       "      <td>asp.net</td>\n",
       "      <td>12772</td>\n",
       "    </tr>\n",
       "    <tr>\n",
       "      <th>12</th>\n",
       "      <td>python</td>\n",
       "      <td>12337</td>\n",
       "    </tr>\n",
       "    <tr>\n",
       "      <th>13</th>\n",
       "      <td>ruby-on-rails</td>\n",
       "      <td>10969</td>\n",
       "    </tr>\n",
       "    <tr>\n",
       "      <th>14</th>\n",
       "      <td>c++</td>\n",
       "      <td>10753</td>\n",
       "    </tr>\n",
       "    <tr>\n",
       "      <th>15</th>\n",
       "      <td>objective-c</td>\n",
       "      <td>10467</td>\n",
       "    </tr>\n",
       "    <tr>\n",
       "      <th>16</th>\n",
       "      <td>regex</td>\n",
       "      <td>9898</td>\n",
       "    </tr>\n",
       "    <tr>\n",
       "      <th>17</th>\n",
       "      <td>sql-server</td>\n",
       "      <td>7153</td>\n",
       "    </tr>\n",
       "    <tr>\n",
       "      <th>18</th>\n",
       "      <td>ruby</td>\n",
       "      <td>5847</td>\n",
       "    </tr>\n",
       "    <tr>\n",
       "      <th>19</th>\n",
       "      <td>c</td>\n",
       "      <td>5194</td>\n",
       "    </tr>\n",
       "    <tr>\n",
       "      <th>20</th>\n",
       "      <td>ios</td>\n",
       "      <td>4865</td>\n",
       "    </tr>\n",
       "    <tr>\n",
       "      <th>21</th>\n",
       "      <td>.net</td>\n",
       "      <td>4789</td>\n",
       "    </tr>\n",
       "    <tr>\n",
       "      <th>22</th>\n",
       "      <td>ruby-on-rails-3</td>\n",
       "      <td>4085</td>\n",
       "    </tr>\n",
       "    <tr>\n",
       "      <th>23</th>\n",
       "      <td>django</td>\n",
       "      <td>4082</td>\n",
       "    </tr>\n",
       "    <tr>\n",
       "      <th>24</th>\n",
       "      <td>asp.net-mvc</td>\n",
       "      <td>3693</td>\n",
       "    </tr>\n",
       "  </tbody>\n",
       "</table>\n",
       "</div>"
      ],
      "text/plain": [
       "               Tags  Count\n",
       "0        javascript  42955\n",
       "1            jquery  41892\n",
       "2               php  40921\n",
       "3           android  36818\n",
       "4                c#  28393\n",
       "5              java  23241\n",
       "6              html  20537\n",
       "7             mysql  19792\n",
       "8               css  17258\n",
       "9            iphone  14099\n",
       "10              sql  12891\n",
       "11          asp.net  12772\n",
       "12           python  12337\n",
       "13    ruby-on-rails  10969\n",
       "14              c++  10753\n",
       "15      objective-c  10467\n",
       "16            regex   9898\n",
       "17       sql-server   7153\n",
       "18             ruby   5847\n",
       "19                c   5194\n",
       "20              ios   4865\n",
       "21             .net   4789\n",
       "22  ruby-on-rails-3   4085\n",
       "23           django   4082\n",
       "24      asp.net-mvc   3693"
      ]
     },
     "execution_count": 87,
     "metadata": {},
     "output_type": "execute_result"
    }
   ],
   "source": [
    "col_sum = data_bow.sum(axis = 0).A1 #data_bow.sum(axis = 0) will sum the column of sparse matrix then .A1 will convert that \n",
    "                                    #matrix into array.\n",
    "feat_count = dict(zip(vectorizer.get_feature_names(), col_sum))\n",
    "feat_count_sorted = dict(sorted(feat_count.items(), key = lambda x: x[1], reverse = True))\n",
    "count_data = {\"Tags\":list(feat_count_sorted.keys()), \"Count\": list(feat_count_sorted.values())}\n",
    "count_df = pd.DataFrame(data = count_data)\n",
    "count_df[:25]"
   ]
  },
  {
   "cell_type": "markdown",
   "metadata": {},
   "source": [
    " Top Highest occuring Tags"
   ]
  },
  {
   "cell_type": "code",
   "execution_count": 88,
   "metadata": {},
   "outputs": [
    {
     "data": {
      "image/png": "[encoded data removed]",
      "text/plain": [
       "<Figure size 1296x720 with 1 Axes>"
      ]
     },
     "metadata": {
      "needs_background": "light"
     },
     "output_type": "display_data"
    }
   ],
   "source": [
    "axes = count_df.head(20).plot(x = 'Tags', y = 'Count', kind = 'bar', figsize = (18, 10), fontsize = 15, grid = True)\n",
    "plt.xlabel(\"\")\n",
    "plt.ylabel(\"Count\", fontsize = 20)\n",
    "plt.title(\"Top 20 Highest occurring Tags\", fontsize = 20)\n",
    "cnt = 0\n",
    "for i in axes.patches:\n",
    "    axes.text(i.get_x(), i.get_height()+2000, count_df.head(20)['Tags'][cnt], fontsize=12, color='black')\n",
    "    cnt +=1"
   ]
  },
  {
   "cell_type": "markdown",
   "metadata": {},
   "source": [
    "Plotting tag numbers Vs frequency graph"
   ]
  },
  {
   "cell_type": "code",
   "execution_count": 89,
   "metadata": {
    "colab": {
     "base_uri": "https://localhost:8080/",
     "height": 921
    },
    "id": "TkuKNKA37eTs",
    "outputId": "9cdf6ea4-14a7-46ba-e741-9f8cad007a1c"
   },
   "outputs": [
    {
     "data": {
      "image/png": "[encoded data removed]",
      "text/plain": [
       "<Figure size 576x432 with 1 Axes>"
      ]
     },
     "metadata": {
      "needs_background": "light"
     },
     "output_type": "display_data"
    }
   ],
   "source": [
    "frequency_tags = list(feat_count_sorted.values())\n",
    "plt.figure(figsize = (8, 6))\n",
    "plt.plot(frequency_tags)\n",
    "plt.title(\"Tag Numbers VS Frequency\", fontsize=20)\n",
    "plt.xlabel(\"Tag Numbers\", fontsize=15)\n",
    "plt.ylabel(\"Frequency\", fontsize=15)\n",
    "plt.grid(linestyle='-', linewidth=0.5)"
   ]
  },
  {
   "cell_type": "markdown",
   "metadata": {},
   "source": [
    "Plotting Quantile Values of tag number Vs frequency plot"
   ]
  },
  {
   "cell_type": "code",
   "execution_count": 90,
   "metadata": {
    "colab": {
     "base_uri": "https://localhost:8080/",
     "height": 265
    },
    "id": "wUvH2M817eT6",
    "outputId": "9e7f7150-8b79-4d04-c6fa-79ca41b80cf8",
    "scrolled": true
   },
   "outputs": [
    {
     "name": "stderr",
     "output_type": "stream",
     "text": [
      "<ipython-input-90-e0823678f9cb>:14: MatplotlibDeprecationWarning: The 's' parameter of annotate() has been renamed 'text' since Matplotlib 3.3; support for the old name will be dropped two minor releases later.\n",
      "  plt.annotate(s = '({},{})'.format(x, y), xy = (x, y), fontweight='bold', fontsize = 16, xytext=(x-1, y+5500))\n"
     ]
    },
    {
     "data": {
      "image/png": "[encoded data removed]",
      "text/plain": [
       "<Figure size 720x432 with 1 Axes>"
      ]
     },
     "metadata": {
      "needs_background": "light"
     },
     "output_type": "display_data"
    }
   ],
   "source": [
    "fig = plt.figure(figsize = (10, 6))\n",
    "\n",
    "axes = fig.add_axes([0.1,0.1,1,1])\n",
    "axes.set_title(\"Quantile values of Tag Number VS Frequency\", fontsize = 20)\n",
    "axes.set_xlabel(\"Quantiles\", fontsize = 20)\n",
    "axes.set_ylabel(\"Frequency\", fontsize = 20)\n",
    "axes.plot(frequency_tags[0:100])\n",
    "\n",
    "plt.scatter(x = np.arange(0, 100, 5), y = frequency_tags[0:100][::5], c = \"blue\", s = 70, label=\"quantiles with 0.05 intervals\")\n",
    "plt.scatter(x = np.arange(0, 100, 25), y = frequency_tags[0:100][::25], c = \"red\", s = 70, label=\"quantiles with 0.25 intervals\")\n",
    "plt.legend(loc='upper right', fontsize = 20)\n",
    "\n",
    "for x, y in zip(np.arange(0, 100, 25), frequency_tags[0:100][::25]):\n",
    "    plt.annotate(s = '({},{})'.format(x, y), xy = (x, y), fontweight='bold', fontsize = 16, xytext=(x-1, y+5500))\n",
    "    \n",
    "axes.tick_params(labelsize = 15)"
   ]
  }
 ],
 "metadata": {
  "colab": {
   "collapsed_sections": [],
   "name": "Exploratory Data Analysis..ipynb",
   "provenance": []
  },
  "kernelspec": {
   "display_name": "Python 3",
   "language": "python",
   "name": "python3"
  },
  "language_info": {
   "codemirror_mode": {
    "name": "ipython",
    "version": 3
   },
   "file_extension": ".py",
   "mimetype": "text/x-python",
   "name": "python",
   "nbconvert_exporter": "python",
   "pygments_lexer": "ipython3",
   "version": "3.7.6"
  }
 },
 "nbformat": 4,
 "nbformat_minor": 1
}
